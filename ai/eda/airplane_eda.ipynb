{
 "cells": [
  {
   "cell_type": "code",
   "execution_count": 31,
   "id": "8d0245dd-c9e8-44ac-870b-e6aaf6c1a114",
   "metadata": {},
   "outputs": [],
   "source": [
    "import pandas as pd\n",
    "import numpy as np"
   ]
  },
  {
   "cell_type": "code",
   "execution_count": 3,
   "id": "79c519b7-0573-4b89-91e2-1db4924d4e31",
   "metadata": {},
   "outputs": [
    {
     "data": {
      "text/html": [
       "<div>\n",
       "<style scoped>\n",
       "    .dataframe tbody tr th:only-of-type {\n",
       "        vertical-align: middle;\n",
       "    }\n",
       "\n",
       "    .dataframe tbody tr th {\n",
       "        vertical-align: top;\n",
       "    }\n",
       "\n",
       "    .dataframe thead th {\n",
       "        text-align: right;\n",
       "    }\n",
       "</style>\n",
       "<table border=\"1\" class=\"dataframe\">\n",
       "  <thead>\n",
       "    <tr style=\"text-align: right;\">\n",
       "      <th></th>\n",
       "      <th>countrycode</th>\n",
       "      <th>drawing</th>\n",
       "      <th>key_id</th>\n",
       "      <th>recognized</th>\n",
       "      <th>timestamp</th>\n",
       "      <th>word</th>\n",
       "    </tr>\n",
       "  </thead>\n",
       "  <tbody>\n",
       "    <tr>\n",
       "      <th>0</th>\n",
       "      <td>US</td>\n",
       "      <td>[[[167, 109, 80, 69, 58, 31, 57, 117, 99, 52, ...</td>\n",
       "      <td>5152802093400064</td>\n",
       "      <td>True</td>\n",
       "      <td>2017-03-08 21:12:07.266040</td>\n",
       "      <td>airplane</td>\n",
       "    </tr>\n",
       "    <tr>\n",
       "      <th>1</th>\n",
       "      <td>CA</td>\n",
       "      <td>[[[2, 14, 34, 126], [57, 45, 38, 47]], [[41, 4...</td>\n",
       "      <td>6622904974311424</td>\n",
       "      <td>False</td>\n",
       "      <td>2017-03-06 21:39:04.690130</td>\n",
       "      <td>airplane</td>\n",
       "    </tr>\n",
       "    <tr>\n",
       "      <th>2</th>\n",
       "      <td>US</td>\n",
       "      <td>[[[90, 88, 95, 104, 112, 122], [65, 31, 12, 0,...</td>\n",
       "      <td>6577010312740864</td>\n",
       "      <td>True</td>\n",
       "      <td>2017-03-23 02:08:35.229980</td>\n",
       "      <td>airplane</td>\n",
       "    </tr>\n",
       "    <tr>\n",
       "      <th>3</th>\n",
       "      <td>US</td>\n",
       "      <td>[[[82, 49, 15, 4, 0, 5, 30, 85, 89, 93, 112, 1...</td>\n",
       "      <td>5643224746033152</td>\n",
       "      <td>True</td>\n",
       "      <td>2017-03-10 00:35:17.531970</td>\n",
       "      <td>airplane</td>\n",
       "    </tr>\n",
       "    <tr>\n",
       "      <th>4</th>\n",
       "      <td>IL</td>\n",
       "      <td>[[[64, 38, 23, 8, 0, 6, 26, 68], [74, 77, 84, ...</td>\n",
       "      <td>6670046841536512</td>\n",
       "      <td>True</td>\n",
       "      <td>2017-01-23 18:11:11.658170</td>\n",
       "      <td>airplane</td>\n",
       "    </tr>\n",
       "    <tr>\n",
       "      <th>...</th>\n",
       "      <td>...</td>\n",
       "      <td>...</td>\n",
       "      <td>...</td>\n",
       "      <td>...</td>\n",
       "      <td>...</td>\n",
       "      <td>...</td>\n",
       "    </tr>\n",
       "    <tr>\n",
       "      <th>151618</th>\n",
       "      <td>US</td>\n",
       "      <td>[[[22, 8, 0, 28, 50, 112, 184, 204, 228, 248, ...</td>\n",
       "      <td>5493275190362112</td>\n",
       "      <td>True</td>\n",
       "      <td>2017-03-02 14:53:50.225510</td>\n",
       "      <td>airplane</td>\n",
       "    </tr>\n",
       "    <tr>\n",
       "      <th>151619</th>\n",
       "      <td>PH</td>\n",
       "      <td>[[[0, 18, 38, 75], [92, 68, 56, 55]], [[2, 10,...</td>\n",
       "      <td>4804582200836096</td>\n",
       "      <td>True</td>\n",
       "      <td>2017-03-29 15:40:12.818540</td>\n",
       "      <td>airplane</td>\n",
       "    </tr>\n",
       "    <tr>\n",
       "      <th>151620</th>\n",
       "      <td>IE</td>\n",
       "      <td>[[[87, 39, 24, 5, 0, 4, 21, 45, 93, 177, 194, ...</td>\n",
       "      <td>6511303608762368</td>\n",
       "      <td>True</td>\n",
       "      <td>2017-01-24 21:11:31.576440</td>\n",
       "      <td>airplane</td>\n",
       "    </tr>\n",
       "    <tr>\n",
       "      <th>151621</th>\n",
       "      <td>US</td>\n",
       "      <td>[[[186, 82, 37, 20, 7, 1, 0, 3, 16, 29, 137, 2...</td>\n",
       "      <td>4731074292744192</td>\n",
       "      <td>True</td>\n",
       "      <td>2017-01-25 16:45:20.333770</td>\n",
       "      <td>airplane</td>\n",
       "    </tr>\n",
       "    <tr>\n",
       "      <th>151622</th>\n",
       "      <td>ES</td>\n",
       "      <td>[[[76, 3, 17, 141], [41, 68, 67, 46]], [[76, 1...</td>\n",
       "      <td>6323583485739008</td>\n",
       "      <td>True</td>\n",
       "      <td>2017-03-21 12:04:31.544430</td>\n",
       "      <td>airplane</td>\n",
       "    </tr>\n",
       "  </tbody>\n",
       "</table>\n",
       "<p>151623 rows × 6 columns</p>\n",
       "</div>"
      ],
      "text/plain": [
       "       countrycode                                            drawing  \\\n",
       "0               US  [[[167, 109, 80, 69, 58, 31, 57, 117, 99, 52, ...   \n",
       "1               CA  [[[2, 14, 34, 126], [57, 45, 38, 47]], [[41, 4...   \n",
       "2               US  [[[90, 88, 95, 104, 112, 122], [65, 31, 12, 0,...   \n",
       "3               US  [[[82, 49, 15, 4, 0, 5, 30, 85, 89, 93, 112, 1...   \n",
       "4               IL  [[[64, 38, 23, 8, 0, 6, 26, 68], [74, 77, 84, ...   \n",
       "...            ...                                                ...   \n",
       "151618          US  [[[22, 8, 0, 28, 50, 112, 184, 204, 228, 248, ...   \n",
       "151619          PH  [[[0, 18, 38, 75], [92, 68, 56, 55]], [[2, 10,...   \n",
       "151620          IE  [[[87, 39, 24, 5, 0, 4, 21, 45, 93, 177, 194, ...   \n",
       "151621          US  [[[186, 82, 37, 20, 7, 1, 0, 3, 16, 29, 137, 2...   \n",
       "151622          ES  [[[76, 3, 17, 141], [41, 68, 67, 46]], [[76, 1...   \n",
       "\n",
       "                  key_id  recognized                   timestamp      word  \n",
       "0       5152802093400064        True  2017-03-08 21:12:07.266040  airplane  \n",
       "1       6622904974311424       False  2017-03-06 21:39:04.690130  airplane  \n",
       "2       6577010312740864        True  2017-03-23 02:08:35.229980  airplane  \n",
       "3       5643224746033152        True  2017-03-10 00:35:17.531970  airplane  \n",
       "4       6670046841536512        True  2017-01-23 18:11:11.658170  airplane  \n",
       "...                  ...         ...                         ...       ...  \n",
       "151618  5493275190362112        True  2017-03-02 14:53:50.225510  airplane  \n",
       "151619  4804582200836096        True  2017-03-29 15:40:12.818540  airplane  \n",
       "151620  6511303608762368        True  2017-01-24 21:11:31.576440  airplane  \n",
       "151621  4731074292744192        True  2017-01-25 16:45:20.333770  airplane  \n",
       "151622  6323583485739008        True  2017-03-21 12:04:31.544430  airplane  \n",
       "\n",
       "[151623 rows x 6 columns]"
      ]
     },
     "execution_count": 3,
     "metadata": {},
     "output_type": "execute_result"
    }
   ],
   "source": [
    "csv_airplane = pd.read_csv('airplane.csv')\n",
    "csv_airplane"
   ]
  },
  {
   "cell_type": "code",
   "execution_count": 8,
   "id": "00c416ed-c3d2-48dd-99ad-f3963426297c",
   "metadata": {},
   "outputs": [
    {
     "data": {
      "text/plain": [
       "135823"
      ]
     },
     "execution_count": 8,
     "metadata": {},
     "output_type": "execute_result"
    }
   ],
   "source": [
    "# csv_airplane[csv_airplane.recognized == True]\n",
    "airplane_list = csv_airplane[csv_airplane.recognized == True]\n",
    "len(airplane_list)"
   ]
  },
  {
   "cell_type": "code",
   "execution_count": 29,
   "id": "a51f81ac-946d-49f1-93f6-97e6c165305c",
   "metadata": {},
   "outputs": [
    {
     "data": {
      "text/plain": [
       "countrycode    object\n",
       "drawing        object\n",
       "key_id          int64\n",
       "recognized       bool\n",
       "timestamp      object\n",
       "word           object\n",
       "dtype: object"
      ]
     },
     "execution_count": 29,
     "metadata": {},
     "output_type": "execute_result"
    }
   ],
   "source": [
    "airplane_list.dtypes"
   ]
  },
  {
   "cell_type": "code",
   "execution_count": 30,
   "id": "eaa5653e-d0f9-4fb5-ab88-63aa7feb4dd2",
   "metadata": {},
   "outputs": [
    {
     "name": "stdout",
     "output_type": "stream",
     "text": [
      "[[[167, 109, 80, 69, 58, 31, 57, 117, 99, 52, 30, 6, 1, 2, 66, 98, 253, 254, 246, 182, 165], [140, 194, 227, 232, 229, 229, 206, 124, 123, 149, 157, 159, 153, 110, 82, 77, 74, 109, 121, 127, 120]], [[207, 207, 210, 221, 238], [74, 103, 114, 128, 135]], [[119, 107, 76, 70, 49, 39, 60, 93], [72, 41, 3, 0, 1, 5, 38, 70]]]\n"
     ]
    },
    {
     "data": {
      "text/plain": [
       "str"
      ]
     },
     "execution_count": 30,
     "metadata": {},
     "output_type": "execute_result"
    }
   ],
   "source": [
    "print(airplane_list.iloc[0].drawing)\n",
    "type(airplane_list.iloc[0].drawing)"
   ]
  },
  {
   "cell_type": "code",
   "execution_count": 32,
   "id": "528f2e60-502b-41f0-963d-c4f3ff00d1ac",
   "metadata": {},
   "outputs": [
    {
     "name": "stdout",
     "output_type": "stream",
     "text": [
      "[[list([167, 109, 80, 69, 58, 31, 57, 117, 99, 52, 30, 6, 1, 2, 66, 98, 253, 254, 246, 182, 165])\n",
      "  list([140, 194, 227, 232, 229, 229, 206, 124, 123, 149, 157, 159, 153, 110, 82, 77, 74, 109, 121, 127, 120])]\n",
      " [list([207, 207, 210, 221, 238]) list([74, 103, 114, 128, 135])]\n",
      " [list([119, 107, 76, 70, 49, 39, 60, 93])\n",
      "  list([72, 41, 3, 0, 1, 5, 38, 70])]]\n"
     ]
    },
    {
     "name": "stderr",
     "output_type": "stream",
     "text": [
      "C:\\Users\\SSAFY\\AppData\\Local\\Temp\\ipykernel_14192\\3414461567.py:1: VisibleDeprecationWarning: Creating an ndarray from ragged nested sequences (which is a list-or-tuple of lists-or-tuples-or ndarrays with different lengths or shapes) is deprecated. If you meant to do this, you must specify 'dtype=object' when creating the ndarray.\n",
      "  print(np.array(eval(airplane_list.iloc[0].drawing)))\n"
     ]
    }
   ],
   "source": [
    "print(np.array(eval(airplane_list.iloc[0].drawing)))"
   ]
  }
 ],
 "metadata": {
  "kernelspec": {
   "display_name": "py38",
   "language": "python",
   "name": "py38"
  },
  "language_info": {
   "codemirror_mode": {
    "name": "ipython",
    "version": 3
   },
   "file_extension": ".py",
   "mimetype": "text/x-python",
   "name": "python",
   "nbconvert_exporter": "python",
   "pygments_lexer": "ipython3",
   "version": "3.8.16"
  }
 },
 "nbformat": 4,
 "nbformat_minor": 5
}
